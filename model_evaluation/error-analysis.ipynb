{
 "cells": [
  {
   "cell_type": "markdown",
   "source": [
    "# Predict and Explain Error Analysis\n",
    "\n",
    "This notebook was used to analyze the performance of our BART and T5 model\n",
    "on the sub-task: predict and explain.\n",
    "\n",
    "BART_bart_scores.pk = BartScores for our BART model on all test sentences (calculated in BART-BARTscores.ipynb)\n",
    "T5_bart_scores.pk = BartScores for our T5 model on all test sentences (calculated in BART-T5scores.ipynb)\n",
    "BART-input.pk = tokenize concatenation of the premises and hypothesis to link to the Bartscores\n"
   ],
   "metadata": {
    "collapsed": false,
    "pycharm": {
     "name": "#%% md\n"
    }
   }
  },
  {
   "cell_type": "code",
   "execution_count": 21,
   "outputs": [],
   "source": [
    "# Read BART scores for BART model and T5 model\n",
    "\n",
    "import pickle as pk\n",
    "import pandas as pd\n",
    "import matplotlib\n",
    "\n",
    "with open(r'../model_evaluation/pickles/BART_bart_scores.pk', \"rb\") as f:\n",
    "    bart = pk.load(f)\n",
    "\n",
    "with open(r'../model_evaluation/pickles/T5_bart_scores.pk', \"rb\") as f:\n",
    "    t5 = pk.load(f)\n",
    "\n",
    "with open(r'../model_evaluation/pickles/BART-input.pk', \"rb\") as f:\n",
    "    inp = pk.load(f)\n",
    "\n",
    "def score_df(scores):\n",
    "    generated, gold, BARTscore = tuple(zip(*scores))\n",
    "    return pd.DataFrame({\n",
    "        'generated': generated,\n",
    "        'gold': gold,\n",
    "        'BART score': BARTscore,\n",
    "        'input': inp\n",
    "    }).sort_values(by='BART score', ascending=False).reset_index(drop=True)\n",
    "\n",
    "bart = score_df(bart)\n",
    "t5 = score_df(t5)"
   ],
   "metadata": {
    "collapsed": false,
    "pycharm": {
     "name": "#%%\n"
    }
   }
  },
  {
   "cell_type": "code",
   "execution_count": 22,
   "outputs": [],
   "source": [
    "def print_examples(df):\n",
    "    for idx, row in df.iterrows():\n",
    "        print(f\"INPUT      {row['input']}\")\n",
    "        print(f\"GOLD       {row['gold']}\")\n",
    "        print(f\"GENERATED  {row['generated']}\")\n",
    "        print(f\"SCORE      {row['BART score']}\")\n",
    "        print()\n",
    "\n",
    "def analyze(df):\n",
    "    print(\">>> SCORES\")\n",
    "    print(df['BART score'].describe(), '\\n')\n",
    "\n",
    "    print(\">>> EXAMPLES: BEST 3\\n\")\n",
    "    print_examples(df.head(3))\n",
    "\n",
    "    print(\">>> EXAMPLES: MEDIAN\\n\")\n",
    "    print_examples(df[df['BART score'].between(df['BART score'].median(), 0)].tail(3))\n",
    "\n",
    "    print(\">>> EXAMPLES: WORST 3\\n\")\n",
    "    print_examples(df.tail(3))\n",
    "\n",
    "    print(\">>> FREQUENCY DISTRIBUTION\")\n",
    "    ax = bart.plot.hist(\n",
    "        bins=30,\n",
    "        figsize=(12, 8),\n",
    "        color='#2E8B57',\n",
    "        zorder=2,\n",
    "        rwidth=0.9,\n",
    "    )\n",
    "    ax.set_ylabel('Frequency', fontsize=20)\n",
    "    ax.legend(loc='upper left', prop={'size': 20})\n",
    "    ax.tick_params(axis='both', labelsize=18)"
   ],
   "metadata": {
    "collapsed": false,
    "pycharm": {
     "name": "#%%\n"
    }
   }
  },
  {
   "cell_type": "code",
   "execution_count": 23,
   "outputs": [
    {
     "name": "stdout",
     "output_type": "stream",
     "text": [
      ">>> SCORES\n",
      "count    9824.000000\n",
      "mean       -2.022596\n",
      "std         0.860022\n",
      "min        -5.872152\n",
      "25%        -2.572144\n",
      "50%        -1.967432\n",
      "75%        -1.377736\n",
      "max        -0.130821\n",
      "Name: BART score, dtype: float64 \n",
      "\n",
      ">>> EXAMPLES: BEST 3\n",
      "\n",
      "INPUT      An Indian woman is dancing with her partner.</s>A woman is moving.\n",
      "GOLD       0 Dancing is a form of moving.\n",
      "GENERATED  0 Dancing is a form of moving.\n",
      "SCORE      -0.13082095980644226\n",
      "\n",
      "INPUT      Three women sit at a table, taking notes from three identical magazines.</s>Three women are reading and writing.\n",
      "GOLD       0 Taking notes implies reading and writing.\n",
      "GENERATED  0 Taking notes implies reading and writing.\n",
      "SCORE      -0.14433448016643524\n",
      "\n",
      "INPUT      Three puppies are in the tub being sprayed with water by a person.</s>Animals are in a tub.\n",
      "GOLD       0 Puppies are animals.\n",
      "GENERATED  0 Puppies are animals.\n",
      "SCORE      -0.15144097805023193\n",
      "\n",
      ">>> EXAMPLES: MEDIAN\n",
      "\n",
      "INPUT      A boy in swimming trunks wades out into the water.</s>The young swimmer wades out into the water at the start of his team practice.\n",
      "GOLD       1 Just because a boy is swimming does not mean he is at his team practice.\n",
      "GENERATED  1 A boy in swimming trunks wades out into the water does not indicate that\n",
      "SCORE      -1.9666543006896973\n",
      "\n",
      "INPUT      A man holding some sort of vegetables while his wife in a red sweater stares to the side, and his daughter in a red sweater looks at the camera.</s>A family poses for a Christmas picture.\n",
      "GOLD       1 Just because they're posing for a picture doesn't mean they're posing for a Christmas picture.\n",
      "GENERATED  1 A man holding some sort of vegetables while his wife in a red sweater stares to\n",
      "SCORE      -1.9670330286026\n",
      "\n",
      "INPUT      Girl wearing white shirt sings on stage while playing guitar</s>A girl plays guitar and sings for a crowd.\n",
      "GOLD       1 A girl can sing or play guitar on a stage that doesn't have a crowd.\n",
      "GENERATED  1 Just because a girl sings on stage while playing guitar does not mean she sings for\n",
      "SCORE      -1.9674171209335327\n",
      "\n",
      ">>> EXAMPLES: WORST 3\n",
      "\n",
      "INPUT      A man smokes while leaning against a pillar, which has a 'missing person' flier posted on it.</s>a guy smoking against a wall with a flier on it\n",
      "GOLD       0 Pillar has 'missing person' posted implies a flier on it.\n",
      "GENERATED  0 A pillar is a wall.\n",
      "SCORE      -5.674753665924072\n",
      "\n",
      "INPUT      A gray rally car is being driven by two adult males while a large white container is tied down on top of the roof.</s>The men hope the container won't fly off the roof.\n",
      "GOLD       1 How can a countainer fly off from a relly car\n",
      "GENERATED  1 Sentence 1: A gray rally car is being driven by two adult males while\n",
      "SCORE      -5.725617408752441\n",
      "\n",
      "INPUT      A woman in a black leather shirt trench-coat and black leather calf-high boots and carrying a colorful bag with a shoulder strap faces away from the camera with a yellow post visible just in front of her.</s>Some stars are walking past the paparazzis and getting into an awards building\n",
      "GOLD       1 beautifully dressed woman are not always stars, men with camera and yellow post are not paparazzis and the ceremony building always not awards building\n",
      "GENERATED  2 A woman is not some stars.\n",
      "SCORE      -5.872152328491211\n",
      "\n",
      ">>> FREQUENCY DISTRIBUTION\n"
     ]
    },
    {
     "data": {
      "text/plain": "<Figure size 864x576 with 1 Axes>",
      "image/png": "[encoded data removed]"
     },
     "metadata": {
      "needs_background": "light"
     },
     "output_type": "display_data"
    }
   ],
   "source": [
    "analyze(bart)"
   ],
   "metadata": {
    "collapsed": false,
    "pycharm": {
     "name": "#%%\n"
    }
   }
  },
  {
   "cell_type": "code",
   "execution_count": 46,
   "outputs": [
    {
     "name": "stdout",
     "output_type": "stream",
     "text": [
      ">>> SCORES\n",
      "count    9824.000000\n",
      "mean       -2.056793\n",
      "std         0.869111\n",
      "min        -5.697746\n",
      "25%        -2.643428\n",
      "50%        -2.017062\n",
      "75%        -1.390397\n",
      "max        -0.173038\n",
      "Name: BART score, dtype: float64 \n",
      "\n",
      ">>> EXAMPLES: BEST 3\n",
      "\n",
      "INPUT      Villagers pulling in the fish boat.</s>There are people pulling a boat.\n",
      "GOLD       Villagers are people.\n",
      "GENERATED  Villagers are people.\n",
      "SCORE      -0.1730376034975052\n",
      "\n",
      "INPUT      A land rover is being driven across a river.</s>A vehicle is crossing a river.\n",
      "GOLD       A land rover is a vehicle.\n",
      "GENERATED  A land rover is a vehicle.\n",
      "SCORE      -0.20455719530582428\n",
      "\n",
      "INPUT      Two racers race on motorcycles.</s>Two people are racing.\n",
      "GOLD       Racers are people.\n",
      "GENERATED  Racers are people.\n",
      "SCORE      -0.20692968368530273\n",
      "\n",
      ">>> EXAMPLES: MEDIAN\n",
      "\n",
      "INPUT      A bearded man with a backpack on his back holding a tripod in front of a rocky creek and bridge.</s>The man was taking pictures of nature.\n",
      "GOLD       It is only mentioned that the man has a tripod, not that he is taking pictures.\n",
      "GENERATED  Just because a man is holding a tripod in front of a rocky creek\n",
      "SCORE      -2.0167019367218018\n",
      "\n",
      "INPUT      Two girls walking, both with a white shirt and blue shorts on.</s>Two girls are wearing school uniforms.\n",
      "GOLD       Not all school uniforms are white t-shirts and blue shorts\n",
      "GENERATED  Just because two girls are walking with a white shirt and blue shorts on does not\n",
      "SCORE      -2.0168893337249756\n",
      "\n",
      "INPUT      Boy in backpack crossing the street, Other people, all Asian, are all in crosswalk walking towards the boy.</s>The boy has no backpack on.\n",
      "GOLD       A boy that has no backpack on cannot be the Boy in backpack.\n",
      "GENERATED  The boy cannot be in backpack and have no backpack on at the same time.\n",
      "SCORE      -2.017061471939087\n",
      "\n",
      ">>> EXAMPLES: WORST 3\n",
      "\n",
      "INPUT      The farmers are out working hard on there tractor, they have on their overalls and the machine is almost fixed.</s>Overall wearing people are working to fix a tractor.\n",
      "GOLD       'have on their overalls rephrase overall wearing and machine is fixed implies that they fix a tractor.\n",
      "GENERATED  Farmers are people.\n",
      "SCORE      -5.43991756439209\n",
      "\n",
      "INPUT      A woman in a black leather shirt trench-coat and black leather calf-high boots and carrying a colorful bag with a shoulder strap faces away from the camera with a yellow post visible just in front of her.</s>Some stars are walking past the paparazzis and getting into an awards building\n",
      "GOLD       beautifully dressed woman are not always stars, men with camera and yellow post are not paparazzis and the ceremony building always not awards building\n",
      "GENERATED  A woman is not stars.\n",
      "SCORE      -5.672072410583496\n",
      "\n",
      "INPUT      A gray rally car is being driven by two adult males while a large white container is tied down on top of the roof.</s>The men hope the container won't fly off the roof.\n",
      "GOLD       How can a countainer fly off from a relly car\n",
      "GENERATED  Just because a container is tied down on top of the roof does not mean it won\n",
      "SCORE      -5.6977458000183105\n",
      "\n",
      ">>> FREQUENCY DISTRIBUTION\n"
     ]
    },
    {
     "data": {
      "text/plain": "<Figure size 864x576 with 1 Axes>",
      "image/png": "[encoded data removed]"
     },
     "metadata": {
      "needs_background": "light"
     },
     "output_type": "display_data"
    }
   ],
   "source": [
    "analyze(t5)"
   ],
   "metadata": {
    "collapsed": false,
    "pycharm": {
     "name": "#%%\n"
    }
   }
  },
  {
   "cell_type": "code",
   "execution_count": null,
   "outputs": [],
   "source": [],
   "metadata": {
    "collapsed": false,
    "pycharm": {
     "name": "#%%\n"
    }
   }
  }
 ],
 "metadata": {
  "kernelspec": {
   "display_name": "Python 3",
   "language": "python",
   "name": "python3"
  },
  "language_info": {
   "codemirror_mode": {
    "name": "ipython",
    "version": 2
   },
   "file_extension": ".py",
   "mimetype": "text/x-python",
   "name": "python",
   "nbconvert_exporter": "python",
   "pygments_lexer": "ipython2",
   "version": "2.7.6"
  }
 },
 "nbformat": 4,
 "nbformat_minor": 0
}