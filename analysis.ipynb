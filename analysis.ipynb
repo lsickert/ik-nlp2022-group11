{
 "cells": [
  {
   "cell_type": "code",
   "execution_count": 1,
   "id": "e9ad3e58",
   "metadata": {},
   "outputs": [],
   "source": [
    "import data"
   ]
  },
  {
   "cell_type": "code",
   "execution_count": 2,
   "id": "ff1cee2a",
   "metadata": {},
   "outputs": [
    {
     "name": "stderr",
     "output_type": "stream",
     "text": [
      "Reusing dataset esnli (/Users/ludwig/.cache/huggingface/datasets/esnli/plain_text/0.0.2/a160e6a02bbb8d828c738918dafec4e7d298782c334b5109af632fec6d779bbc)\n",
      "100%|██████████| 3/3 [00:00<00:00, 217.20it/s]\n",
      "100%|██████████| 549367/549367 [00:51<00:00, 10659.55ex/s]\n",
      "100%|██████████| 9842/9842 [00:01<00:00, 9828.25ex/s] \n",
      "100%|██████████| 9824/9824 [00:00<00:00, 10061.74ex/s]"
     ]
    },
    {
     "name": "stdout",
     "output_type": "stream",
     "text": [
      "DatasetDict({\n",
      "    train: Dataset({\n",
      "        features: ['premise', 'hypothesis', 'label', 'explanation_1', 'explanation_2', 'explanation_3', 'standalone_hypothesis', 'text_label', 'premise_hypothesis', 'label_explanation_1'],\n",
      "        num_rows: 549367\n",
      "    })\n",
      "    validation: Dataset({\n",
      "        features: ['premise', 'hypothesis', 'label', 'explanation_1', 'explanation_2', 'explanation_3', 'standalone_hypothesis', 'text_label', 'premise_hypothesis', 'label_explanation_1', 'label_explanation_2', 'label_explanation_3'],\n",
      "        num_rows: 9842\n",
      "    })\n",
      "    test: Dataset({\n",
      "        features: ['premise', 'hypothesis', 'label', 'explanation_1', 'explanation_2', 'explanation_3', 'standalone_hypothesis', 'text_label', 'premise_hypothesis', 'label_explanation_1', 'label_explanation_2', 'label_explanation_3'],\n",
      "        num_rows: 9824\n",
      "    })\n",
      "})\n"
     ]
    },
    {
     "name": "stderr",
     "output_type": "stream",
     "text": [
      "\n"
     ]
    }
   ],
   "source": [
    "ds = data.load_data()\n",
    "print(ds)"
   ]
  },
  {
   "cell_type": "code",
   "execution_count": 3,
   "id": "bee109bd",
   "metadata": {},
   "outputs": [
    {
     "data": {
      "text/plain": [
       "Dataset({\n",
       "    features: ['premise', 'hypothesis', 'label', 'explanation_1', 'explanation_2', 'explanation_3', 'standalone_hypothesis', 'text_label', 'premise_hypothesis', 'label_explanation_1'],\n",
       "    num_rows: 549367\n",
       "})"
      ]
     },
     "execution_count": 3,
     "metadata": {},
     "output_type": "execute_result"
    }
   ],
   "source": [
    "ds[\"train\"]"
   ]
  },
  {
   "cell_type": "code",
   "execution_count": 4,
   "id": "4910c896",
   "metadata": {},
   "outputs": [
    {
     "name": "stderr",
     "output_type": "stream",
     "text": [
      "Reusing dataset esnli (/Users/ludwig/.cache/huggingface/datasets/esnli/plain_text/0.0.2/a160e6a02bbb8d828c738918dafec4e7d298782c334b5109af632fec6d779bbc)\n",
      "100%|██████████| 3/3 [00:00<00:00, 314.00it/s]\n",
      "100%|██████████| 549367/549367 [00:50<00:00, 10929.69ex/s]\n",
      "100%|██████████| 9842/9842 [00:00<00:00, 11217.78ex/s]\n",
      "100%|██████████| 9824/9824 [00:00<00:00, 11754.27ex/s]\n"
     ]
    }
   ],
   "source": [
    "df = data.load_data_as_df(\"train\")"
   ]
  },
  {
   "cell_type": "code",
   "execution_count": 5,
   "id": "6755a34f",
   "metadata": {},
   "outputs": [
    {
     "data": {
      "text/html": [
       "<div>\n",
       "<style scoped>\n",
       "    .dataframe tbody tr th:only-of-type {\n",
       "        vertical-align: middle;\n",
       "    }\n",
       "\n",
       "    .dataframe tbody tr th {\n",
       "        vertical-align: top;\n",
       "    }\n",
       "\n",
       "    .dataframe thead th {\n",
       "        text-align: right;\n",
       "    }\n",
       "</style>\n",
       "<table border=\"1\" class=\"dataframe\">\n",
       "  <thead>\n",
       "    <tr style=\"text-align: right;\">\n",
       "      <th></th>\n",
       "      <th>premise</th>\n",
       "      <th>hypothesis</th>\n",
       "      <th>label</th>\n",
       "      <th>explanation_1</th>\n",
       "      <th>standalone_hypothesis</th>\n",
       "      <th>text_label</th>\n",
       "      <th>premise_hypothesis</th>\n",
       "      <th>label_explanation_1</th>\n",
       "    </tr>\n",
       "  </thead>\n",
       "  <tbody>\n",
       "    <tr>\n",
       "      <th>0</th>\n",
       "      <td>[CLS] A person on a horse jumps over a broken ...</td>\n",
       "      <td>A person is training his horse for a competiti...</td>\n",
       "      <td>1</td>\n",
       "      <td>the person is not necessarily training his horse</td>\n",
       "      <td>[CLS] A person is training his horse for a com...</td>\n",
       "      <td>neutral</td>\n",
       "      <td>[CLS] A person on a horse jumps over a broken ...</td>\n",
       "      <td>neutral: the person is not necessarily trainin...</td>\n",
       "    </tr>\n",
       "    <tr>\n",
       "      <th>1</th>\n",
       "      <td>[CLS] A person on a horse jumps over a broken ...</td>\n",
       "      <td>A person is at a diner, ordering an omelette. ...</td>\n",
       "      <td>2</td>\n",
       "      <td>One cannot be on a jumping horse cannot be a d...</td>\n",
       "      <td>[CLS] A person is at a diner, ordering an omel...</td>\n",
       "      <td>contradiction</td>\n",
       "      <td>[CLS] A person on a horse jumps over a broken ...</td>\n",
       "      <td>contradiction: One cannot be on a jumping hors...</td>\n",
       "    </tr>\n",
       "    <tr>\n",
       "      <th>2</th>\n",
       "      <td>[CLS] A person on a horse jumps over a broken ...</td>\n",
       "      <td>A person is outdoors, on a horse. [SEP]</td>\n",
       "      <td>0</td>\n",
       "      <td>a broken down airplane is outdoors</td>\n",
       "      <td>[CLS] A person is outdoors, on a horse. [SEP] ...</td>\n",
       "      <td>entailment</td>\n",
       "      <td>[CLS] A person on a horse jumps over a broken ...</td>\n",
       "      <td>entailment: a broken down airplane is outdoors</td>\n",
       "    </tr>\n",
       "    <tr>\n",
       "      <th>3</th>\n",
       "      <td>[CLS] Children smiling and waving at camera [S...</td>\n",
       "      <td>They are smiling at their parents [SEP]</td>\n",
       "      <td>1</td>\n",
       "      <td>Just because they are smiling and waving at a ...</td>\n",
       "      <td>[CLS] They are smiling at their parents [SEP] ...</td>\n",
       "      <td>neutral</td>\n",
       "      <td>[CLS] Children smiling and waving at camera [S...</td>\n",
       "      <td>neutral: Just because they are smiling and wav...</td>\n",
       "    </tr>\n",
       "    <tr>\n",
       "      <th>4</th>\n",
       "      <td>[CLS] Children smiling and waving at camera [S...</td>\n",
       "      <td>There are children present [SEP]</td>\n",
       "      <td>0</td>\n",
       "      <td>The children must be present to see them smili...</td>\n",
       "      <td>[CLS] There are children present [SEP] [SEP]</td>\n",
       "      <td>entailment</td>\n",
       "      <td>[CLS] Children smiling and waving at camera [S...</td>\n",
       "      <td>entailment: The children must be present to se...</td>\n",
       "    </tr>\n",
       "  </tbody>\n",
       "</table>\n",
       "</div>"
      ],
      "text/plain": [
       "                                             premise  \\\n",
       "0  [CLS] A person on a horse jumps over a broken ...   \n",
       "1  [CLS] A person on a horse jumps over a broken ...   \n",
       "2  [CLS] A person on a horse jumps over a broken ...   \n",
       "3  [CLS] Children smiling and waving at camera [S...   \n",
       "4  [CLS] Children smiling and waving at camera [S...   \n",
       "\n",
       "                                          hypothesis  label  \\\n",
       "0  A person is training his horse for a competiti...      1   \n",
       "1  A person is at a diner, ordering an omelette. ...      2   \n",
       "2            A person is outdoors, on a horse. [SEP]      0   \n",
       "3            They are smiling at their parents [SEP]      1   \n",
       "4                   There are children present [SEP]      0   \n",
       "\n",
       "                                       explanation_1  \\\n",
       "0   the person is not necessarily training his horse   \n",
       "1  One cannot be on a jumping horse cannot be a d...   \n",
       "2                 a broken down airplane is outdoors   \n",
       "3  Just because they are smiling and waving at a ...   \n",
       "4  The children must be present to see them smili...   \n",
       "\n",
       "                               standalone_hypothesis     text_label  \\\n",
       "0  [CLS] A person is training his horse for a com...        neutral   \n",
       "1  [CLS] A person is at a diner, ordering an omel...  contradiction   \n",
       "2  [CLS] A person is outdoors, on a horse. [SEP] ...     entailment   \n",
       "3  [CLS] They are smiling at their parents [SEP] ...        neutral   \n",
       "4      [CLS] There are children present [SEP] [SEP]      entailment   \n",
       "\n",
       "                                  premise_hypothesis  \\\n",
       "0  [CLS] A person on a horse jumps over a broken ...   \n",
       "1  [CLS] A person on a horse jumps over a broken ...   \n",
       "2  [CLS] A person on a horse jumps over a broken ...   \n",
       "3  [CLS] Children smiling and waving at camera [S...   \n",
       "4  [CLS] Children smiling and waving at camera [S...   \n",
       "\n",
       "                                 label_explanation_1  \n",
       "0  neutral: the person is not necessarily trainin...  \n",
       "1  contradiction: One cannot be on a jumping hors...  \n",
       "2     entailment: a broken down airplane is outdoors  \n",
       "3  neutral: Just because they are smiling and wav...  \n",
       "4  entailment: The children must be present to se...  "
      ]
     },
     "execution_count": 5,
     "metadata": {},
     "output_type": "execute_result"
    }
   ],
   "source": [
    "df.head()"
   ]
  },
  {
   "cell_type": "code",
   "execution_count": 6,
   "id": "c5e729c7",
   "metadata": {},
   "outputs": [
    {
     "name": "stdout",
     "output_type": "stream",
     "text": [
      "<class 'pandas.core.frame.DataFrame'>\n",
      "RangeIndex: 549367 entries, 0 to 549366\n",
      "Data columns (total 8 columns):\n",
      " #   Column                 Non-Null Count   Dtype \n",
      "---  ------                 --------------   ----- \n",
      " 0   premise                549367 non-null  string\n",
      " 1   hypothesis             549367 non-null  string\n",
      " 2   label                  549367 non-null  int64 \n",
      " 3   explanation_1          549367 non-null  string\n",
      " 4   standalone_hypothesis  549367 non-null  string\n",
      " 5   text_label             549367 non-null  string\n",
      " 6   premise_hypothesis     549367 non-null  string\n",
      " 7   label_explanation_1    549367 non-null  string\n",
      "dtypes: int64(1), string(7)\n",
      "memory usage: 33.5 MB\n"
     ]
    }
   ],
   "source": [
    "df.info()"
   ]
  },
  {
   "cell_type": "code",
   "execution_count": 10,
   "id": "77877a88",
   "metadata": {},
   "outputs": [
    {
     "data": {
      "text/plain": [
       "0    183416\n",
       "2    183187\n",
       "1    182764\n",
       "Name: label, dtype: int64"
      ]
     },
     "execution_count": 10,
     "metadata": {},
     "output_type": "execute_result"
    }
   ],
   "source": [
    "df[\"label\"].value_counts()"
   ]
  },
  {
   "cell_type": "code",
   "execution_count": null,
   "id": "359e0608",
   "metadata": {},
   "outputs": [],
   "source": []
  }
 ],
 "metadata": {
  "kernelspec": {
   "display_name": "Python 3 (ipykernel)",
   "language": "python",
   "name": "python3"
  },
  "language_info": {
   "codemirror_mode": {
    "name": "ipython",
    "version": 3
   },
   "file_extension": ".py",
   "mimetype": "text/x-python",
   "name": "python",
   "nbconvert_exporter": "python",
   "pygments_lexer": "ipython3",
   "version": "3.8.12"
  }
 },
 "nbformat": 4,
 "nbformat_minor": 5
}
